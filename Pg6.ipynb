{
 "cells": [
  {
   "cell_type": "code",
   "execution_count": null,
   "id": "8c403c06-1aa6-439e-b5df-303f14171e10",
   "metadata": {},
   "outputs": [],
   "source": [
    "import numpy as np\n",
    "import matplotlib.pyplot as plt\n",
    "\n",
    "def gaussian_kernel(x,x_query,tau):\n",
    "    return np.exp(-np.square(x-x_query)/(2*tau**2))\n",
    "\n",
    "def lwr(x_train,y_train,x_query,tau):\n",
    "    m=len(x_train)\n",
    "    W=np.diag(gaussian_kernel(x_train,x_query,tau))\n",
    "    X_bias=np.c_[np.ones(m),x_train]\n",
    "    theta=np.linalg.pinv(X_bias.T @ W @ X_bias) @ (X_bias.T @ W @ y_train)\n",
    "    return np.array([1,x_query] @ theta)\n",
    "\n",
    "np.random.seed(42)\n",
    "x_train=np.linspace(0,10,100)\n",
    "y_train=np.sin(x_train)+np.random.normal(0,0.2,100)\n",
    "\n",
    "tau_values=[0.1,0.5,1,5]\n",
    "\n",
    "x_test=np.linspace(0,10,100)\n",
    "\n",
    "plt.figure(figsize=(10,8))\n",
    "for tau in tau_values:\n",
    "    y_pred=np.array([lwr(x_train,y_train,xq,tau) for xq in x_test])\n",
    "    plt.plot(x_test,y_pred,label=f\" Tau: {tau}\")\n",
    "plt.scatter(x_train,y_train,color='black',label='Training Label', alpha=0.5)\n",
    "plt.xlabel(\"X\")\n",
    "plt.xlabel(\"X\")\n"
   ]
  }
 ],
 "metadata": {
  "kernelspec": {
   "display_name": "Python 3 (ipykernel)",
   "language": "python",
   "name": "python3"
  },
  "language_info": {
   "codemirror_mode": {
    "name": "ipython",
    "version": 3
   },
   "file_extension": ".py",
   "mimetype": "text/x-python",
   "name": "python",
   "nbconvert_exporter": "python",
   "pygments_lexer": "ipython3",
   "version": "3.12.3"
  }
 },
 "nbformat": 4,
 "nbformat_minor": 5
}
