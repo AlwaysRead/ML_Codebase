{
 "cells": [
  {
   "cell_type": "code",
   "execution_count": 3,
   "id": "192572d0-97ba-4f9a-b894-56440d31f467",
   "metadata": {},
   "outputs": [
    {
     "name": "stdout",
     "output_type": "stream",
     "text": [
      "Initial Hypothesis: ['0', '0', '0', '0']\n",
      "\n",
      "Example 1 ['Sunny' 'Hot' 'High' 'Strong'] -> No\n",
      "\n",
      "Example 2 ['Overcast' 'Hot' 'High' 'Weak'] -> Yes\n",
      "Updated Hypothesis: ['Overcast', 'Hot', 'High', 'Weak']\n",
      "\n",
      "Example 3 ['Rain' 'Mild' 'High' 'Weak'] -> Yes\n",
      "Updated Hypothesis: ['?', '?', '?', '?']\n",
      "\n",
      "Example 4 ['Rain' 'Cool' 'Normal' 'Weak'] -> Yes\n",
      "Updated Hypothesis: ['?', '?', '?', '?']\n",
      "\n",
      "Example 5 ['Rain' 'Cool' 'Normal' 'Strong'] -> No\n",
      "\n",
      "Example 6 ['Overcast' 'Cool' 'Normal' 'Strong'] -> Yes\n",
      "Updated Hypothesis: ['?', '?', '?', '?']\n",
      "\n",
      "Example 7 ['Sunny' 'Mild' 'High' 'Weak'] -> No\n",
      "\n",
      "Example 8 ['Sunny' 'Cool' 'Normal' 'Weak'] -> Yes\n",
      "Updated Hypothesis: ['?', '?', '?', '?']\n",
      "\n",
      "Example 9 ['Rain' 'Mild' 'Normal' 'Weak'] -> Yes\n",
      "Updated Hypothesis: ['?', '?', '?', '?']\n",
      "\n",
      "Example 10 ['Sunny' 'Mild' 'Normal' 'Strong'] -> Yes\n",
      "Updated Hypothesis: ['?', '?', '?', '?']\n",
      "\n",
      "Example 11 ['Overcast' 'Mild' 'High' 'Strong'] -> Yes\n",
      "Updated Hypothesis: ['?', '?', '?', '?']\n",
      "\n",
      "Example 12 ['Overcast' 'Hot' 'Normal' 'Weak'] -> Yes\n",
      "Updated Hypothesis: ['?', '?', '?', '?']\n",
      "\n",
      "Example 13 ['Rain' 'Mild' 'High' 'Strong'] -> No\n",
      "Final Hypothesis: ['?', '?', '?', '?']\n"
     ]
    }
   ],
   "source": [
    "#For a given set of training data examples stored in a .CSV file, implement and demonstrate the Find-S algorithm to output a description of the set of all hypotheses consistent with the training examples. \n",
    "\n",
    "import numpy as np\n",
    "import pandas as pd\n",
    "\n",
    "data = pd.read_csv(\"Find_S_Dataset.csv\")\n",
    "\n",
    "attributes = data.iloc[:,:-1].values\n",
    "target = data.iloc[:,-1].values\n",
    "\n",
    "def find_s_algorithm(attributes,target):\n",
    "    hypothesis=[\"0\"]*len(attributes[0])\n",
    "    print(\"Initial Hypothesis:\",hypothesis)\n",
    "    for i in range(len(target)):\n",
    "        print(\"\\nExample\",i+1,attributes[i],\"->\",target[i])\n",
    "        if target[i] == \"Yes\":\n",
    "            if hypothesis==[\"0\"]*attributes.shape[1]:\n",
    "                hypothesis = list(attributes[i])\n",
    "            else:\n",
    "                for j in range(len(hypothesis)):\n",
    "                    hypothesis[j]!=attributes[i][j]\n",
    "                    hypothesis[j]=\"?\"\n",
    "            print(\"Updated Hypothesis:\",hypothesis)\n",
    "    return hypothesis\n",
    "\n",
    "new_find_s_algorithm=find_s_algorithm(attributes,target)\n",
    "print(\"Final Hypothesis:\",new_find_s_algorithm)\n",
    "                    \n",
    "            "
   ]
  },
  {
   "cell_type": "code",
   "execution_count": null,
   "id": "65e9d775-ecf8-47d6-add5-8857d29cd564",
   "metadata": {},
   "outputs": [],
   "source": []
  }
 ],
 "metadata": {
  "kernelspec": {
   "display_name": "Python 3 (ipykernel)",
   "language": "python",
   "name": "python3"
  },
  "language_info": {
   "codemirror_mode": {
    "name": "ipython",
    "version": 3
   },
   "file_extension": ".py",
   "mimetype": "text/x-python",
   "name": "python",
   "nbconvert_exporter": "python",
   "pygments_lexer": "ipython3",
   "version": "3.12.3"
  }
 },
 "nbformat": 4,
 "nbformat_minor": 5
}
